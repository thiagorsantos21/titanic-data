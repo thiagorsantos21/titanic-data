{
 "cells": [
  {
   "cell_type": "markdown",
   "metadata": {},
   "source": [
    "# Estudo - Dados do Titanic"
   ]
  },
  {
   "cell_type": "markdown",
   "metadata": {},
   "source": [
    "O famoso navio Titanic, que em sua viagem de inauguração em 14 de Abril de 1912, afundou após ter colidido com um iceberg, um navio grandioso e ousado para época e que seus construtores e projetistas o achavam indestrutivel."
   ]
  },
  {
   "cell_type": "markdown",
   "metadata": {},
   "source": [
    "### Informações obtidas"
   ]
  },
  {
   "cell_type": "markdown",
   "metadata": {},
   "source": [
    "Nesse estudo, obtivemos o arquivo `titanic-data-6.csv`, com algumas informações de passageiros que embarcaram nessa viagem. \n",
    "Nela temos os seguintes dados :"
   ]
  },
  {
   "cell_type": "markdown",
   "metadata": {},
   "source": [
    "\n",
    " - _**Survived**_ - Indicação se o passgeiro sobreviveu ao acidente\n",
    " - _**PClass**_ - A qual classe do navio pertencia esse passageiro\n",
    " - _**Name**_ - Nome do passageiro\n",
    " - _**Sex**_ - Sexo do passageiro\n",
    " - _**Age**_ - Idade do passageiro\n",
    " - _**SibSp**_ - Número de parentes a bordo\n",
    " - _**Parch**_  - Número de pais/filhos a bordo\n",
    " - _**Ticket**_ - Número da passagem\n",
    " - _**Fare**_ - Valor pago\n",
    " - _**Cabine**_ - Cabine a qual o passageiro estava\n",
    " - _**Embarked**_ - Porto de embarque"
   ]
  },
  {
   "cell_type": "code",
   "execution_count": 20,
   "metadata": {},
   "outputs": [],
   "source": [
    "import pandas as pd\n",
    "import matplotlib.pyplot as plt\n",
    "%matplotlib inline\n",
    "\n",
    "df = pd.read_csv(\"titanic-data-6.csv\")"
   ]
  },
  {
   "cell_type": "code",
   "execution_count": 2,
   "metadata": {},
   "outputs": [],
   "source": [
    "#Limpando os dados\n",
    "\n",
    "# Prenchendo valores faltantes com a média, neste caso das idades\n",
    "am = df['Age'].mean()\n",
    "df['Age'].fillna(am,inplace=True)\n",
    "\n",
    "#Ajustando cabines que estão nulas para N/I\n",
    "df['Cabin'].fillna('N/I',inplace=True)\n",
    "\n",
    "#Assumimos que embarques que não estejam marcados, aconteceram em Southampton\n",
    "df['Embarked'].fillna('S',inplace=True)"
   ]
  },
  {
   "cell_type": "code",
   "execution_count": null,
   "metadata": {},
   "outputs": [],
   "source": [
    "\"\"\"\n",
    "    Função que calcula Média\n",
    "\n",
    "    INPUT:\n",
    "    df: dataframe que será utilizada\n",
    "    column: str. Nome da coluna que será realizada query\n",
    "    result_col: str. Nome da coluna a qual a média será calculada\n",
    "    parameter: str. Parâmetro que será utilizado na condição da query\n",
    "\n",
    "    OUTPUT:\n",
    "    Imprimi a média da coluna solicitada de acordo com o parametro informado\n",
    "\"\"\"\n",
    "def calcula_media(df, column, result_col, parameter):\n",
    "    return round(df.query(\"{} == {}\".format(column,parameter))[result_col].mean(),2)"
   ]
  },
  {
   "cell_type": "markdown",
   "metadata": {},
   "source": [
    "### O que pretendo"
   ]
  },
  {
   "cell_type": "markdown",
   "metadata": {},
   "source": [
    "Reponder algumas das perguntas abaixo, nas quais possam nos ajudar com alguns fatos interessantes sobre esse grande acontecimento."
   ]
  },
  {
   "cell_type": "code",
   "execution_count": 21,
   "metadata": {},
   "outputs": [],
   "source": [
    "idade_media_sobreviventes = calcula_media(df,\"Survived\",\"Age\",1)\n",
    "idade_media_nao_sobreviventes = calcula_media(df,\"Survived\",\"Age\",0)"
   ]
  },
  {
   "cell_type": "code",
   "execution_count": 32,
   "metadata": {},
   "outputs": [],
   "source": [
    "total_passageiros = df[\"PassengerId\"].count()\n",
    "sobreviventes = df.query(\"Survived == '1'\")[\"PassengerId\"].count()\n",
    "nao_sobreviventes = df.query(\"Survived == '0'\")[\"PassengerId\"].count()\n",
    "quantidade_mulheres = df.query(\"Sex == 'female'\").count()\n",
    "quantidade_homens = df.query(\"Sex == 'male'\").count()\n"
   ]
  },
  {
   "cell_type": "markdown",
   "metadata": {},
   "source": [
    "#### Perguntas que podemos responder"
   ]
  },
  {
   "cell_type": "markdown",
   "metadata": {},
   "source": [
    "###### 1. Qual o total de passageiros desse estudo ?"
   ]
  },
  {
   "cell_type": "code",
   "execution_count": 23,
   "metadata": {},
   "outputs": [
    {
     "name": "stdout",
     "output_type": "stream",
     "text": [
      "Para o estudo possuímos dados de 891 passageiros\n"
     ]
    }
   ],
   "source": [
    " print(\"Para o estudo possuímos dados de {} passageiros\".format(total_passageiros))"
   ]
  },
  {
   "cell_type": "markdown",
   "metadata": {},
   "source": [
    "###### 2. Qual a idade média dos passageiros ?"
   ]
  },
  {
   "cell_type": "code",
   "execution_count": 27,
   "metadata": {},
   "outputs": [
    {
     "name": "stdout",
     "output_type": "stream",
     "text": [
      "29.7\n"
     ]
    }
   ],
   "source": [
    " print(round(df[\"Age\"].mean(),2))"
   ]
  },
  {
   "cell_type": "markdown",
   "metadata": {},
   "source": [
    "###### 3. Quantos foram os sobreviventes e os que faleceram no acidente ?"
   ]
  },
  {
   "cell_type": "code",
   "execution_count": 30,
   "metadata": {},
   "outputs": [
    {
     "name": "stdout",
     "output_type": "stream",
     "text": [
      "342 sobreviveram e 549 não sobreviveram o acidente\n"
     ]
    }
   ],
   "source": [
    "print(\"{} sobreviveram e {} não sobreviveram o acidente\".format(sobreviventes,nao_sobreviventes))"
   ]
  },
  {
   "cell_type": "code",
   "execution_count": 31,
   "metadata": {},
   "outputs": [
    {
     "data": {
      "image/png": "[encoded data removed]",
      "text/plain": [
       "<Figure size 432x288 with 1 Axes>"
      ]
     },
     "metadata": {
      "needs_background": "light"
     },
     "output_type": "display_data"
    }
   ],
   "source": [
    "#Gráfico de barras\n",
    "locations = [1, 2]\n",
    "heights = [sobreviventes, nao_sobreviventes]\n",
    "labels = ['Sobreviventes', 'Faleceram']\n",
    "plt.bar(locations, heights, tick_label=labels)\n",
    "plt.title('Dados sobre sobreviventes')\n",
    "plt.show(block=True)"
   ]
  },
  {
   "cell_type": "markdown",
   "metadata": {},
   "source": [
    "#### 4. Qual a idade média dos sobreviventes ?"
   ]
  },
  {
   "cell_type": "code",
   "execution_count": 33,
   "metadata": {},
   "outputs": [
    {
     "name": "stdout",
     "output_type": "stream",
     "text": [
      "A idade média dos sobreviventes é de 28.34 e dos que faleceram é de 30.63\n"
     ]
    }
   ],
   "source": [
    "print(\"A idade média dos sobreviventes é de {} e dos que faleceram é de {}\".format(idade_media_sobreviventes,idade_media_nao_sobreviventes))"
   ]
  },
  {
   "cell_type": "markdown",
   "metadata": {},
   "source": [
    "#### 5. Qual a quantidade de sobreviventes por classes ?"
   ]
  },
  {
   "cell_type": "code",
   "execution_count": 34,
   "metadata": {},
   "outputs": [
    {
     "data": {
      "image/png": "[encoded data removed]",
      "text/plain": [
       "<Figure size 432x288 with 1 Axes>"
      ]
     },
     "metadata": {
      "needs_background": "light"
     },
     "output_type": "display_data"
    }
   ],
   "source": [
    "df_survivals = df.query(\"Survived == 1\")\n",
    "ax = df_survivals.groupby(['Pclass'])['Pclass'].count().plot(kind=\"bar\", title=\"Sobreviventes por Classe\");\n",
    "ax.set(xlabel=\"Portos de Embarque\", ylabel=\"Quantidade\");"
   ]
  },
  {
   "cell_type": "markdown",
   "metadata": {},
   "source": [
    "#### 6. Quais portos em que os sobreviventes entraram no navio ? "
   ]
  },
  {
   "cell_type": "code",
   "execution_count": 36,
   "metadata": {},
   "outputs": [
    {
     "data": {
      "image/png": "[encoded data removed]",
      "text/plain": [
       "<Figure size 432x288 with 1 Axes>"
      ]
     },
     "metadata": {
      "needs_background": "light"
     },
     "output_type": "display_data"
    }
   ],
   "source": [
    "\n",
    "    \n",
    "ax = df_survivals.replace('C','Cherbourg').replace('Q','Queenstown').replace('S','Southampton').groupby(['Embarked'])['Embarked'].count().plot(kind=\"bar\",title=\"Quantidade de sobreviventes por Porto de Embarque\");\n",
    "ax.set(xlabel=\"Portos de Embarque\", ylabel=\"Quantidade\");"
   ]
  },
  {
   "cell_type": "code",
   "execution_count": null,
   "metadata": {},
   "outputs": [],
   "source": []
  },
  {
   "cell_type": "code",
   "execution_count": null,
   "metadata": {},
   "outputs": [],
   "source": []
  }
 ],
 "metadata": {
  "kernelspec": {
   "display_name": "Python 3",
   "language": "python",
   "name": "python3"
  },
  "language_info": {
   "codemirror_mode": {
    "name": "ipython",
    "version": 3
   },
   "file_extension": ".py",
   "mimetype": "text/x-python",
   "name": "python",
   "nbconvert_exporter": "python",
   "pygments_lexer": "ipython3",
   "version": "3.7.0"
  }
 },
 "nbformat": 4,
 "nbformat_minor": 2
}
