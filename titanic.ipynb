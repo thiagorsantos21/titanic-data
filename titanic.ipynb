{
 "cells": [
  {
   "cell_type": "markdown",
   "metadata": {},
   "source": [
    "# Estudo - Dados do Titanic"
   ]
  },
  {
   "cell_type": "markdown",
   "metadata": {},
   "source": [
    "O famoso navio Titanic, que em sua viagem de inauguração em 14 de Abril de 1912, afundou após ter colidido com um iceberg, um navio grandioso e ousado para época e que seus construtores e projetistas o achavam indestrutivel."
   ]
  },
  {
   "cell_type": "markdown",
   "metadata": {},
   "source": [
    "### Informações obtidas"
   ]
  },
  {
   "cell_type": "markdown",
   "metadata": {},
   "source": [
    "Nesse estudo, obtivemos o arquivo `titanic-data-6.csv`, com algumas informações de passageiros que embarcaram nessa viagem. \n",
    "Nela temos os seguintes dados :"
   ]
  },
  {
   "cell_type": "markdown",
   "metadata": {},
   "source": [
    "\n",
    " - _**Survived**_ - Indicação se o passgeiro sobreviveu ao acidente\n",
    " - _**PClass**_ - A qual classe do navio pertencia esse passageiro\n",
    " - _**Name**_ - Nome do passageiro\n",
    " - _**Sex**_ - Sexo do passageiro\n",
    " - _**Age**_ - Idade do passageiro\n",
    " - _**SibSp**_ - Número de parentes a bordo\n",
    " - _**Parch**_  - Número de pais/filhos a bordo\n",
    " - _**Ticket**_ - Número da passagem\n",
    " - _**Fare**_ - Tarifa paga\n",
    " - _**Cabine**_ - Cabine a qual o passageiro estava\n",
    " - _**Embarked**_ - Porto de embarque"
   ]
  },
  {
   "cell_type": "code",
   "execution_count": 2,
   "metadata": {},
   "outputs": [],
   "source": [
    "import pandas as pd\n",
    "import numpy as np\n",
    "import matplotlib.pyplot as plt\n",
    "%matplotlib inline\n",
    "\n",
    "\n",
    "df = pd.read_csv(\"titanic-data-6.csv\")"
   ]
  },
  {
   "cell_type": "markdown",
   "metadata": {},
   "source": [
    "_Primeiramente, iremos limpar os dados para garantir uma avaliação mais precisa,_\n",
    "<br/>\n",
    "_preencher valores faltantes com a média, neste caso das idades_"
   ]
  },
  {
   "cell_type": "code",
   "execution_count": 17,
   "metadata": {},
   "outputs": [],
   "source": [
    "am = df['Age'].mean()\n",
    "df['Age'].fillna(am,inplace=True)"
   ]
  },
  {
   "cell_type": "markdown",
   "metadata": {},
   "source": [
    "_Agora ajustamos as cabines que estão nulas para N/I_"
   ]
  },
  {
   "cell_type": "code",
   "execution_count": 18,
   "metadata": {},
   "outputs": [],
   "source": [
    "df['Cabin'].fillna('N/I',inplace=True)"
   ]
  },
  {
   "cell_type": "markdown",
   "metadata": {},
   "source": [
    "E por fim assumimos que embarques que não estejam marcados, aconteceram em Southampton"
   ]
  },
  {
   "cell_type": "code",
   "execution_count": 19,
   "metadata": {},
   "outputs": [],
   "source": [
    "df['Embarked'].fillna('S',inplace=True)"
   ]
  },
  {
   "cell_type": "code",
   "execution_count": 4,
   "metadata": {},
   "outputs": [],
   "source": [
    "\"\"\"\n",
    "    Função que calcula Média\n",
    "\n",
    "    INPUT:\n",
    "    df: dataframe que será utilizada\n",
    "    column: str. Nome da coluna que será realizada query\n",
    "    result_col: str. Nome da coluna a qual a média será calculada\n",
    "    parameter: str. Parâmetro que será utilizado na condição da query\n",
    "\n",
    "    OUTPUT:\n",
    "    Imprimi a média da coluna solicitada de acordo com o parametro informado\n",
    "\"\"\"\n",
    "def calcula_media(df, column, result_col, parameter):\n",
    "    return round(df.query(\"{} == {}\".format(column,parameter))[result_col].mean(),2)"
   ]
  },
  {
   "cell_type": "markdown",
   "metadata": {},
   "source": [
    "### O que pretendo"
   ]
  },
  {
   "cell_type": "markdown",
   "metadata": {},
   "source": [
    "Reponder algumas das perguntas abaixo, nas quais possam nos ajudar com alguns fatos interessantes sobre esse grande acontecimento."
   ]
  },
  {
   "cell_type": "code",
   "execution_count": 5,
   "metadata": {},
   "outputs": [],
   "source": [
    "idade_media_sobreviventes = calcula_media(df,\"Survived\",\"Age\",1)\n",
    "idade_media_nao_sobreviventes = calcula_media(df,\"Survived\",\"Age\",0)"
   ]
  },
  {
   "cell_type": "code",
   "execution_count": 6,
   "metadata": {},
   "outputs": [],
   "source": [
    "total_passageiros = df[\"PassengerId\"].count()\n",
    "sobreviventes = df.query(\"Survived == '1'\")[\"PassengerId\"].count()\n",
    "nao_sobreviventes = df.query(\"Survived == '0'\")[\"PassengerId\"].count()\n",
    "quantidade_mulheres = df.query(\"Sex == 'female'\")[\"Sex\"].count()\n",
    "quantidade_homens = df.query(\"Sex == 'male'\")[\"Sex\"].count()\n"
   ]
  },
  {
   "cell_type": "markdown",
   "metadata": {},
   "source": [
    "#### Perguntas que podemos responder"
   ]
  },
  {
   "cell_type": "markdown",
   "metadata": {},
   "source": [
    "1. **Qual o total de passageiros desse estudo?** \n",
    "2. **Qual a idade média dos passageiros?**\n",
    "3. **Quais as quantidades de homens e mulheres**\n",
    "4. **Quantos foram os sobreviventes e os que faleceram no acidente?**\n",
    "5. **Qual a idade média dos sobreviventes?**\n",
    "6. **Qual a quantidade de homens e mulheres que sobreviveram ao acidente ?**\n",
    "7. **Qual a quantidade de sobreviventes por classes ?**\n",
    "8. **Quais portos em que os sobreviventes entraram no navio ?**\n",
    "9. **Qual a média de tafira paga ?**\n",
    "10. **Qual a média de tafira paga entre os sobreviventes?**\n",
    "11. **Gráfico que exibe a mortabilidade por gênero**\n"
   ]
  },
  {
   "cell_type": "markdown",
   "metadata": {},
   "source": [
    "### Vamos as respostas"
   ]
  },
  {
   "cell_type": "markdown",
   "metadata": {},
   "source": [
    "###### 1. Qual o total de passageiros desse estudo ?"
   ]
  },
  {
   "cell_type": "code",
   "execution_count": 7,
   "metadata": {},
   "outputs": [
    {
     "name": "stdout",
     "output_type": "stream",
     "text": [
      "Para o estudo possuímos dados de 891 passageiros\n"
     ]
    }
   ],
   "source": [
    " print(\"Para o estudo possuímos dados de {} passageiros\".format(total_passageiros))"
   ]
  },
  {
   "cell_type": "markdown",
   "metadata": {},
   "source": [
    "###### 2. Qual a idade média dos passageiros ?"
   ]
  },
  {
   "cell_type": "code",
   "execution_count": 8,
   "metadata": {},
   "outputs": [
    {
     "name": "stdout",
     "output_type": "stream",
     "text": [
      "29.7\n"
     ]
    }
   ],
   "source": [
    " print(round(df[\"Age\"].mean(),2))"
   ]
  },
  {
   "cell_type": "markdown",
   "metadata": {},
   "source": [
    "#### 3. Quais as quantidades de homens e mulheres? "
   ]
  },
  {
   "cell_type": "code",
   "execution_count": 9,
   "metadata": {},
   "outputs": [
    {
     "name": "stdout",
     "output_type": "stream",
     "text": [
      "Respectivamente 577 e 314\n"
     ]
    }
   ],
   "source": [
    "print(\"Respectivamente {} e {}\".format(quantidade_homens,quantidade_mulheres))"
   ]
  },
  {
   "cell_type": "code",
   "execution_count": 10,
   "metadata": {},
   "outputs": [],
   "source": [
    "df_survivals = df.query(\"Survived == 1\")"
   ]
  },
  {
   "cell_type": "markdown",
   "metadata": {},
   "source": [
    "###### 4. Quantos foram os sobreviventes e os que faleceram no acidente ?"
   ]
  },
  {
   "cell_type": "code",
   "execution_count": 11,
   "metadata": {},
   "outputs": [
    {
     "name": "stdout",
     "output_type": "stream",
     "text": [
      "342 sobreviveram e 549 não sobreviveram o acidente\n"
     ]
    }
   ],
   "source": [
    "print(\"{} sobreviveram e {} não sobreviveram o acidente\".format(sobreviventes,nao_sobreviventes))"
   ]
  },
  {
   "cell_type": "code",
   "execution_count": 15,
   "metadata": {},
   "outputs": [
    {
     "data": {
      "image/png": "[encoded data removed]",
      "text/plain": [
       "<Figure size 432x288 with 1 Axes>"
      ]
     },
     "metadata": {
      "needs_background": "light"
     },
     "output_type": "display_data"
    }
   ],
   "source": [
    "locations = [1, 2]\n",
    "heights = [sobreviventes, nao_sobreviventes]\n",
    "labels = ['Sobreviventes', 'Faleceram']\n",
    "plt.bar(locations, heights, tick_label=labels)\n",
    "plt.title('Dados sobre sobreviventes')\n",
    "plt.xlabel('Situação', fontsize=10)\n",
    "plt.ylabel('Quantidade', fontsize=10)\n",
    "plt.show(block=True)"
   ]
  },
  {
   "cell_type": "markdown",
   "metadata": {},
   "source": [
    "Como podemos ver no gráfico acima, houve um grande número de passageiros que faleceram 61% e 39% sobreviveram nesses dados do estudo."
   ]
  },
  {
   "cell_type": "markdown",
   "metadata": {},
   "source": [
    "#### 5. Qual a idade média dos sobreviventes ?"
   ]
  },
  {
   "cell_type": "code",
   "execution_count": 16,
   "metadata": {},
   "outputs": [
    {
     "name": "stdout",
     "output_type": "stream",
     "text": [
      "A idade média dos sobreviventes é de 28.55 e dos que faleceram é de 30.42\n"
     ]
    }
   ],
   "source": [
    "print(\"A idade média dos sobreviventes é de {} e dos que faleceram é de {}\".format(idade_media_sobreviventes,idade_media_nao_sobreviventes))"
   ]
  },
  {
   "cell_type": "markdown",
   "metadata": {},
   "source": [
    "#### 6. Qual a quantidade de homens e mulheres que sobreviveram ao acidente ?"
   ]
  },
  {
   "cell_type": "code",
   "execution_count": 17,
   "metadata": {},
   "outputs": [
    {
     "name": "stdout",
     "output_type": "stream",
     "text": [
      "Respectivamente 109 e 233\n"
     ]
    }
   ],
   "source": [
    "quantidade_sobreviventes_mulheres = df_survivals.query(\"Sex == 'female'\")[\"Sex\"].count()\n",
    "quantidade_sobreviventes_homens = df_survivals.query(\"Sex == 'male'\")[\"Sex\"].count()\n",
    "\n",
    "print(\"Respectivamente {} e {}\".format(quantidade_sobreviventes_homens,quantidade_sobreviventes_mulheres))"
   ]
  },
  {
   "cell_type": "markdown",
   "metadata": {},
   "source": [
    "#### 7. Qual a quantidade de sobreviventes por classes ?"
   ]
  },
  {
   "cell_type": "code",
   "execution_count": 18,
   "metadata": {},
   "outputs": [
    {
     "data": {
      "image/png": "[encoded data removed]",
      "text/plain": [
       "<Figure size 432x288 with 1 Axes>"
      ]
     },
     "metadata": {
      "needs_background": "light"
     },
     "output_type": "display_data"
    }
   ],
   "source": [
    "\n",
    "ax = df_survivals.groupby(['Pclass'])['Pclass'].count().plot(kind=\"bar\", title=\"Sobreviventes por Classe\");\n",
    "ax.set(xlabel=\"Portos de Embarque\", ylabel=\"Quantidade\");"
   ]
  },
  {
   "cell_type": "markdown",
   "metadata": {},
   "source": [
    "No gráfico acima, podemos verificar que  houveram sobreviventes de todas as classes do navio, e que predominou sobreviventes da primeira classe e que surpreendentemente, a classe mais baixa tiveram mais sobreviventes que a 2ª."
   ]
  },
  {
   "cell_type": "markdown",
   "metadata": {},
   "source": [
    "#### 8. Quais portos em que os sobreviventes entraram no navio ? "
   ]
  },
  {
   "cell_type": "code",
   "execution_count": 19,
   "metadata": {},
   "outputs": [
    {
     "data": {
      "image/png": "[encoded data removed]",
      "text/plain": [
       "<Figure size 432x288 with 1 Axes>"
      ]
     },
     "metadata": {
      "needs_background": "light"
     },
     "output_type": "display_data"
    }
   ],
   "source": [
    "ax = df_survivals.replace('C','Cherbourg').replace('Q','Queenstown').replace('S','Southampton').groupby(['Embarked'])['Embarked'].count().plot(kind=\"bar\",title=\"Quantidade de sobreviventes por Porto de Embarque\");\n",
    "ax.set(xlabel=\"Portos de Embarque\", ylabel=\"Quantidade\");"
   ]
  },
  {
   "cell_type": "markdown",
   "metadata": {},
   "source": [
    "Assim, podemos concluir que a maior parte dos passgeiros que sobreviveram o desastre, embarcaram em Southampton."
   ]
  },
  {
   "cell_type": "markdown",
   "metadata": {},
   "source": [
    "#### 9. Qual a média de tafira paga ?"
   ]
  },
  {
   "cell_type": "code",
   "execution_count": 20,
   "metadata": {},
   "outputs": [
    {
     "name": "stdout",
     "output_type": "stream",
     "text": [
      "32.2\n"
     ]
    }
   ],
   "source": [
    "print(round(df[\"Fare\"].mean(),2))"
   ]
  },
  {
   "cell_type": "markdown",
   "metadata": {},
   "source": [
    "#### 10. Qual a média de tafira paga entre os sobreviventes?"
   ]
  },
  {
   "cell_type": "code",
   "execution_count": 21,
   "metadata": {},
   "outputs": [
    {
     "name": "stdout",
     "output_type": "stream",
     "text": [
      "48.4\n"
     ]
    }
   ],
   "source": [
    "print(round(df_survivals[\"Fare\"].mean(),2))"
   ]
  },
  {
   "cell_type": "markdown",
   "metadata": {},
   "source": [
    "#### 11. Gráfico que exibe a mortabilidade por gênero"
   ]
  },
  {
   "cell_type": "code",
   "execution_count": 53,
   "metadata": {},
   "outputs": [
    {
     "data": {
      "image/png": "[encoded data removed]",
      "text/plain": [
       "<Figure size 432x288 with 1 Axes>"
      ]
     },
     "metadata": {
      "needs_background": "light"
     },
     "output_type": "display_data"
    }
   ],
   "source": [
    "label = ['Mulheres', 'Homens']\n",
    "label_legend = ['Total', 'Sobreviventes']\n",
    "values = [quantidade_mulheres,quantidade_homens]\n",
    "values_sobreviventes = [quantidade_sobreviventes_mulheres,quantidade_sobreviventes_homens ]\n",
    "\n",
    "index = np.arange(len(label))\n",
    "\n",
    "plt.bar(index, values, width = 0.8, color= 'red')\n",
    "plt.bar(index, values_sobreviventes, width = 0.8, color= 'blue')\n",
    "plt.xlabel('Gênero', fontsize=10)\n",
    "plt.ylabel('Quantidade', fontsize=10)\n",
    "plt.xticks(index, label, fontsize=10, rotation=30)\n",
    "plt.title('Comparativo de total gêneros e sobreviventes')\n",
    "plt.legend(label_legend)\n",
    "plt.show()"
   ]
  },
  {
   "cell_type": "markdown",
   "metadata": {},
   "source": [
    "Neste gráfico, temos a comparação entre os homens e mulheres que estavam no navio com a quantidade de homens e mulheres que sobreviveram ao acidente, com isso concluímos que na viagem tinham muito mais homens do que mulheres no navio, já após o acidente esse numero mudou muito sobrevivendo mais mulheres."
   ]
  },
  {
   "cell_type": "markdown",
   "metadata": {},
   "source": [
    "# Conclusões"
   ]
  },
  {
   "cell_type": "markdown",
   "metadata": {},
   "source": [
    "Pelo que podemos ver a maioria dos passageiros eram jovens, e haviam muito mais homens do que mulheres, porém ao verificarmos a quantidade de sobreviventes vemos que a grande maioria que sobreviveu foi o de mulheres, e que o sobreviventes foram de todas as classes do navio. \n",
    "\n",
    "Quando falamos que são jovens é porque a idade média dos passegeiros era de 30 anos.\n",
    "\n",
    "Além disso obtivemos também as medias de valores pagos entre todos passageiros que foi de £32.2 e já quando fazemos sobreviventes essa média entre os sobreviventes esse número sobe para £42.4 .\n",
    "\n",
    "E uma curiosidade, que a maior parte dos passageiros que sobreviveram embarcaram no navio no Porto de Southampton."
   ]
  },
  {
   "cell_type": "markdown",
   "metadata": {},
   "source": [
    "## Limitações"
   ]
  },
  {
   "cell_type": "markdown",
   "metadata": {},
   "source": [
    "No momento da análise dos dados, foi verificado que algumas das propriedades possuiam valores nulos, no caso foram as propriedades `Age`,`Cabin` e `Embarked` e foram adotados os seguintes procedimentos para ajustar as informações:\n",
    "\n",
    "- **Age:**  Adotamos as médias de idades para os valores que estavam como nulos.\n",
    "- **Cabin:** Como não poderiamos garantir com certeza qual a cabine em que estava o passgeiro, quando a informação é nula                    incluímos a string 'N/I' ('não informado').\n",
    "- **Embarked:** O local de embarque, foi preenchido com o mesmo valor que possuía o maior número de embarques da amostra."
   ]
  },
  {
   "cell_type": "markdown",
   "metadata": {},
   "source": [
    "##### -------------------------------------------------------"
   ]
  },
  {
   "cell_type": "markdown",
   "metadata": {},
   "source": [
    "_**Autor:**_ Thiago Santos\n",
    "<br/>\n",
    "_**Data**_ : 21/11/2018"
   ]
  },
  {
   "cell_type": "code",
   "execution_count": null,
   "metadata": {},
   "outputs": [],
   "source": []
  }
 ],
 "metadata": {
  "kernelspec": {
   "display_name": "Python 3",
   "language": "python",
   "name": "python3"
  },
  "language_info": {
   "codemirror_mode": {
    "name": "ipython",
    "version": 3
   },
   "file_extension": ".py",
   "mimetype": "text/x-python",
   "name": "python",
   "nbconvert_exporter": "python",
   "pygments_lexer": "ipython3",
   "version": "3.7.0"
  }
 },
 "nbformat": 4,
 "nbformat_minor": 2
}
