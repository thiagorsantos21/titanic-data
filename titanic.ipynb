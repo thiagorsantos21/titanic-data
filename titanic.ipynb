{
 "cells": [
  {
   "cell_type": "markdown",
   "metadata": {},
   "source": [
    "# Estudo - Dados do Titanic"
   ]
  },
  {
   "cell_type": "markdown",
   "metadata": {},
   "source": [
    "O famoso navio Titanic, que em sua viagem de inauguração em 14 de Abril de 1912, afundou após ter colidido com um iceberg, um navio grandioso e ousado para época e que seus construtores e projetistas o achavam indestrutivel."
   ]
  },
  {
   "cell_type": "markdown",
   "metadata": {},
   "source": [
    "### Informações obtidas"
   ]
  },
  {
   "cell_type": "markdown",
   "metadata": {},
   "source": [
    "Nesse estudo, obtivemos o arquivo `titanic-data-6.csv`, com algumas informações de passageiros que embarcaram nessa viagem. \n",
    "Nela temos os seguintes dados :"
   ]
  },
  {
   "cell_type": "markdown",
   "metadata": {},
   "source": [
    "\n",
    " - _**Survived**_ - Indicação se o passgeiro sobreviveu ao acidente\n",
    " - _**PClass**_ - A qual classe do navio pertencia esse passageiro\n",
    " - _**Name**_ - Nome do passageiro\n",
    " - _**Sex**_ - Sexo do passageiro\n",
    " - _**Age**_ - Idade do passageiro\n",
    " - _**SibSp**_ - Número de parentes a bordo\n",
    " - _**Parch**_  - Número de pais/filhos a bordo\n",
    " - _**Ticket**_ - Número da passagem\n",
    " - _**Fare**_ - Tarifa paga\n",
    " - _**Cabine**_ - Cabine a qual o passageiro estava\n",
    " - _**Embarked**_ - Porto de embarque"
   ]
  },
  {
   "cell_type": "code",
   "execution_count": 49,
   "metadata": {},
   "outputs": [],
   "source": [
    "import pandas as pd\n",
    "import numpy as np\n",
    "import matplotlib.pyplot as plt\n",
    "%matplotlib inline\n",
    "import seaborn as sns\n",
    "sns.set_style('darkgrid')\n",
    "\n",
    "df = pd.read_csv(\"titanic-data-6.csv\")"
   ]
  },
  {
   "cell_type": "code",
   "execution_count": 50,
   "metadata": {},
   "outputs": [],
   "source": [
    "#Limpando os dados\n",
    "\n",
    "# Prenchendo valores faltantes com a média, neste caso das idades\n",
    "am = df['Age'].mean()\n",
    "df['Age'].fillna(am,inplace=True)\n",
    "\n",
    "#Ajustando cabines que estão nulas para N/I\n",
    "df['Cabin'].fillna('N/I',inplace=True)\n",
    "\n",
    "#Assumimos que embarques que não estejam marcados, aconteceram em Southampton\n",
    "df['Embarked'].fillna('S',inplace=True)"
   ]
  },
  {
   "cell_type": "code",
   "execution_count": 51,
   "metadata": {},
   "outputs": [],
   "source": [
    "\"\"\"\n",
    "    Função que calcula Média\n",
    "\n",
    "    INPUT:\n",
    "    df: dataframe que será utilizada\n",
    "    column: str. Nome da coluna que será realizada query\n",
    "    result_col: str. Nome da coluna a qual a média será calculada\n",
    "    parameter: str. Parâmetro que será utilizado na condição da query\n",
    "\n",
    "    OUTPUT:\n",
    "    Imprimi a média da coluna solicitada de acordo com o parametro informado\n",
    "\"\"\"\n",
    "def calcula_media(df, column, result_col, parameter):\n",
    "    return round(df.query(\"{} == {}\".format(column,parameter))[result_col].mean(),2)"
   ]
  },
  {
   "cell_type": "markdown",
   "metadata": {},
   "source": [
    "### O que pretendo"
   ]
  },
  {
   "cell_type": "markdown",
   "metadata": {},
   "source": [
    "Reponder algumas das perguntas abaixo, nas quais possam nos ajudar com alguns fatos interessantes sobre esse grande acontecimento."
   ]
  },
  {
   "cell_type": "code",
   "execution_count": 52,
   "metadata": {},
   "outputs": [],
   "source": [
    "idade_media_sobreviventes = calcula_media(df,\"Survived\",\"Age\",1)\n",
    "idade_media_nao_sobreviventes = calcula_media(df,\"Survived\",\"Age\",0)"
   ]
  },
  {
   "cell_type": "code",
   "execution_count": 53,
   "metadata": {},
   "outputs": [],
   "source": [
    "total_passageiros = df[\"PassengerId\"].count()\n",
    "sobreviventes = df.query(\"Survived == '1'\")[\"PassengerId\"].count()\n",
    "nao_sobreviventes = df.query(\"Survived == '0'\")[\"PassengerId\"].count()\n",
    "quantidade_mulheres = df.query(\"Sex == 'female'\")[\"Sex\"].count()\n",
    "quantidade_homens = df.query(\"Sex == 'male'\")[\"Sex\"].count()\n"
   ]
  },
  {
   "cell_type": "markdown",
   "metadata": {},
   "source": [
    "#### Perguntas que podemos responder"
   ]
  },
  {
   "cell_type": "markdown",
   "metadata": {},
   "source": [
    "###### 1. Qual o total de passageiros desse estudo ?"
   ]
  },
  {
   "cell_type": "code",
   "execution_count": 23,
   "metadata": {},
   "outputs": [
    {
     "name": "stdout",
     "output_type": "stream",
     "text": [
      "Para o estudo possuímos dados de 891 passageiros\n"
     ]
    }
   ],
   "source": [
    " print(\"Para o estudo possuímos dados de {} passageiros\".format(total_passageiros))"
   ]
  },
  {
   "cell_type": "markdown",
   "metadata": {},
   "source": [
    "###### 2. Qual a idade média dos passageiros ?"
   ]
  },
  {
   "cell_type": "code",
   "execution_count": 27,
   "metadata": {},
   "outputs": [
    {
     "name": "stdout",
     "output_type": "stream",
     "text": [
      "29.7\n"
     ]
    }
   ],
   "source": [
    " print(round(df[\"Age\"].mean(),2))"
   ]
  },
  {
   "cell_type": "markdown",
   "metadata": {},
   "source": [
    "#### 3. Quais as quantidades de homens e mulheres? "
   ]
  },
  {
   "cell_type": "code",
   "execution_count": 40,
   "metadata": {},
   "outputs": [
    {
     "name": "stdout",
     "output_type": "stream",
     "text": [
      "Respectivamente 577 e 314\n"
     ]
    }
   ],
   "source": [
    "print(\"Respectivamente {} e {}\".format(quantidade_homens,quantidade_mulheres))"
   ]
  },
  {
   "cell_type": "code",
   "execution_count": 41,
   "metadata": {},
   "outputs": [],
   "source": [
    "df_survivals = df.query(\"Survived == 1\")"
   ]
  },
  {
   "cell_type": "markdown",
   "metadata": {},
   "source": [
    "###### 4. Quantos foram os sobreviventes e os que faleceram no acidente ?"
   ]
  },
  {
   "cell_type": "code",
   "execution_count": 30,
   "metadata": {},
   "outputs": [
    {
     "name": "stdout",
     "output_type": "stream",
     "text": [
      "342 sobreviveram e 549 não sobreviveram o acidente\n"
     ]
    }
   ],
   "source": [
    "print(\"{} sobreviveram e {} não sobreviveram o acidente\".format(sobreviventes,nao_sobreviventes))"
   ]
  },
  {
   "cell_type": "code",
   "execution_count": 31,
   "metadata": {},
   "outputs": [
    {
     "data": {
      "image/png": "[encoded data removed]",
      "text/plain": [
       "<Figure size 432x288 with 1 Axes>"
      ]
     },
     "metadata": {
      "needs_background": "light"
     },
     "output_type": "display_data"
    }
   ],
   "source": [
    "#Gráfico de barras\n",
    "locations = [1, 2]\n",
    "heights = [sobreviventes, nao_sobreviventes]\n",
    "labels = ['Sobreviventes', 'Faleceram']\n",
    "plt.bar(locations, heights, tick_label=labels)\n",
    "plt.title('Dados sobre sobreviventes')\n",
    "plt.show(block=True)"
   ]
  },
  {
   "cell_type": "markdown",
   "metadata": {},
   "source": [
    "#### 5. Qual a idade média dos sobreviventes ?"
   ]
  },
  {
   "cell_type": "code",
   "execution_count": 33,
   "metadata": {},
   "outputs": [
    {
     "name": "stdout",
     "output_type": "stream",
     "text": [
      "A idade média dos sobreviventes é de 28.34 e dos que faleceram é de 30.63\n"
     ]
    }
   ],
   "source": [
    "print(\"A idade média dos sobreviventes é de {} e dos que faleceram é de {}\".format(idade_media_sobreviventes,idade_media_nao_sobreviventes))"
   ]
  },
  {
   "cell_type": "markdown",
   "metadata": {},
   "source": [
    "#### 6. Qual a quantidade de homens e mulheres que sobreviveram ao acidente ?"
   ]
  },
  {
   "cell_type": "code",
   "execution_count": 42,
   "metadata": {},
   "outputs": [
    {
     "name": "stdout",
     "output_type": "stream",
     "text": [
      "Respectivamente 109 e 233\n"
     ]
    }
   ],
   "source": [
    "quantidade_sobreviventes_mulheres = df_survivals.query(\"Sex == 'female'\")[\"Sex\"].count()\n",
    "quantidade_sobreviventes_homens = df_survivals.query(\"Sex == 'male'\")[\"Sex\"].count()\n",
    "\n",
    "print(\"Respectivamente {} e {}\".format(quantidade_sobreviventes_homens,quantidade_sobreviventes_mulheres))"
   ]
  },
  {
   "cell_type": "markdown",
   "metadata": {},
   "source": [
    "#### 7. Qual a quantidade de sobreviventes por classes ?"
   ]
  },
  {
   "cell_type": "code",
   "execution_count": 34,
   "metadata": {},
   "outputs": [
    {
     "data": {
      "image/png": "[encoded data removed]",
      "text/plain": [
       "<Figure size 432x288 with 1 Axes>"
      ]
     },
     "metadata": {
      "needs_background": "light"
     },
     "output_type": "display_data"
    }
   ],
   "source": [
    "\n",
    "ax = df_survivals.groupby(['Pclass'])['Pclass'].count().plot(kind=\"bar\", title=\"Sobreviventes por Classe\");\n",
    "ax.set(xlabel=\"Portos de Embarque\", ylabel=\"Quantidade\");"
   ]
  },
  {
   "cell_type": "markdown",
   "metadata": {},
   "source": [
    "#### 8. Quais portos em que os sobreviventes entraram no navio ? "
   ]
  },
  {
   "cell_type": "code",
   "execution_count": 44,
   "metadata": {},
   "outputs": [
    {
     "data": {
      "image/png": "[encoded data removed]",
      "text/plain": [
       "<Figure size 432x288 with 1 Axes>"
      ]
     },
     "metadata": {
      "needs_background": "light"
     },
     "output_type": "display_data"
    }
   ],
   "source": [
    "ax = df_survivals.replace('C','Cherbourg').replace('Q','Queenstown').replace('S','Southampton').groupby(['Embarked'])['Embarked'].count().plot(kind=\"bar\",title=\"Quantidade de sobreviventes por Porto de Embarque\");\n",
    "ax.set(xlabel=\"Portos de Embarque\", ylabel=\"Quantidade\");"
   ]
  },
  {
   "cell_type": "markdown",
   "metadata": {},
   "source": [
    "#### 9. Qual a média de tafira paga ?"
   ]
  },
  {
   "cell_type": "code",
   "execution_count": 43,
   "metadata": {},
   "outputs": [
    {
     "name": "stdout",
     "output_type": "stream",
     "text": [
      "32.2\n"
     ]
    }
   ],
   "source": [
    "print(round(df[\"Fare\"].mean(),2))"
   ]
  },
  {
   "cell_type": "markdown",
   "metadata": {},
   "source": [
    "#### 10. Qual a média de tafira paga entre os sobreviventes?"
   ]
  },
  {
   "cell_type": "code",
   "execution_count": 45,
   "metadata": {},
   "outputs": [
    {
     "name": "stdout",
     "output_type": "stream",
     "text": [
      "48.4\n"
     ]
    }
   ],
   "source": [
    "print(round(df_survivals[\"Fare\"].mean(),2))"
   ]
  },
  {
   "cell_type": "code",
   "execution_count": 54,
   "metadata": {},
   "outputs": [],
   "source": [
    "proporcao_mulheres_sobreviventes = quantidade_sobreviventes_mulheres / quantidade_mulheres\n",
    "proporcao_homens_sobreviventes = quantidade_sobreviventes_homens / quantidade_homens"
   ]
  },
  {
   "cell_type": "code",
   "execution_count": 56,
   "metadata": {},
   "outputs": [],
   "source": [
    "ind = np.arange(proporcao_mulheres_sobreviventes)  # a localização no eixo x dos grupos\n",
    "width = 0.35       # a largura das barras"
   ]
  },
  {
   "cell_type": "code",
   "execution_count": 57,
   "metadata": {},
   "outputs": [
    {
     "data": {
      "text/plain": [
       "<matplotlib.legend.Legend at 0xbc8f4a8>"
      ]
     },
     "execution_count": 57,
     "metadata": {},
     "output_type": "execute_result"
    },
    {
     "data": {
      "image/png": "[encoded data removed]",
      "text/plain": [
       "<Figure size 432x288 with 1 Axes>"
      ]
     },
     "metadata": {},
     "output_type": "display_data"
    }
   ],
   "source": [
    "blue_bars = plt.bar(ind, proporcao_homens_sobreviventes, width, color='blue', alpha=.7, label='Homens')\n",
    "pink_bars = plt.bar(ind + width, proporcao_mulheres_sobreviventes, width, color='pink', alpha=.7, label='Mulheres')\n",
    "\n",
    "# título e rótulos\n",
    "plt.ylabel('Proportion')\n",
    "plt.xlabel('Quality')\n",
    "plt.title('Proportion by Wine Color and Quality')\n",
    "locations = ind + width / 2  # localização dos marcadores no eixo x\n",
    "labels = ['3', '4', '5', '6', '7', '8', '9']  # rótulos dos marcadores no eixo x\n",
    "plt.xticks(locations, labels)\n",
    "\n",
    "# legenda\n",
    "plt.legend()"
   ]
  },
  {
   "cell_type": "code",
   "execution_count": null,
   "metadata": {},
   "outputs": [],
   "source": []
  }
 ],
 "metadata": {
  "kernelspec": {
   "display_name": "Python 3",
   "language": "python",
   "name": "python3"
  },
  "language_info": {
   "codemirror_mode": {
    "name": "ipython",
    "version": 3
   },
   "file_extension": ".py",
   "mimetype": "text/x-python",
   "name": "python",
   "nbconvert_exporter": "python",
   "pygments_lexer": "ipython3",
   "version": "3.7.0"
  }
 },
 "nbformat": 4,
 "nbformat_minor": 2
}
